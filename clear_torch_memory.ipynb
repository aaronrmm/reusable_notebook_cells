{
 "cells": [
  {
   "cell_type": "code",
   "execution_count": null,
   "outputs": [],
   "source": [
    "import torch\n",
    "\n",
    "import gc\n",
    "\n",
    "def p():\n",
    "    c = torch.cuda.memory_cached()\n",
    "    print(f\"cached   :{c}\")\n",
    "    a = torch.cuda.memory_allocated()\n",
    "    print(f\"allocated:{a}\")\n",
    "    f = torch.cuda.memory_cached() - torch.cuda.memory_allocated()\n",
    "    print(f\"free     :{f}\")\n",
    "\n",
    "\n",
    "p()\n",
    "print(\"cleaning...\")\n",
    "torch.cuda.empty_cache()\n",
    "p()"
   ],
   "metadata": {
    "collapsed": false,
    "pycharm": {
     "name": "#%%\n"
    }
   }
  }
 ],
 "metadata": {
  "kernelspec": {
   "display_name": "Python 3",
   "language": "python",
   "name": "python3"
  },
  "language_info": {
   "codemirror_mode": {
    "name": "ipython",
    "version": 2
   },
   "file_extension": ".py",
   "mimetype": "text/x-python",
   "name": "python",
   "nbconvert_exporter": "python",
   "pygments_lexer": "ipython2",
   "version": "2.7.6"
  }
 },
 "nbformat": 4,
 "nbformat_minor": 0
}